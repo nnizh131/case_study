{
 "cells": [
  {
   "cell_type": "code",
   "execution_count": 1,
   "id": "c3463d99",
   "metadata": {},
   "outputs": [],
   "source": [
    "from src.similarity_search.similarity_search import TransactionImageSearch\n",
    "from src.tip_generation.tips_cluster_based import TaxTipGenerator\n",
    "from src.tip_generation.tips_recommendation_system import EASERecommender\n",
    "from src.utils import format_tip\n",
    "import pandas as pd"
   ]
  },
  {
   "cell_type": "code",
   "execution_count": 2,
   "id": "c479675c",
   "metadata": {},
   "outputs": [],
   "source": [
    "transactions_df = pd.read_csv(\"data/transactions_csv.txt\")\n",
    "filings_df = pd.read_csv(\"data/tax_filings_csv.txt\")\n",
    "users_df = pd.read_csv(\"data/users_csv.txt\")"
   ]
  },
  {
   "cell_type": "code",
   "execution_count": 3,
   "id": "52fd4b75",
   "metadata": {},
   "outputs": [
    {
     "name": "stderr",
     "output_type": "stream",
     "text": [
      "INFO:httpx:HTTP Request: GET http://localhost:6333 \"HTTP/1.1 200 OK\"\n",
      "INFO:httpx:HTTP Request: GET http://localhost:6333/collections \"HTTP/1.1 200 OK\"\n",
      "INFO:httpx:HTTP Request: DELETE http://localhost:6333/collections/transaction_image_search \"HTTP/1.1 200 OK\"\n",
      "INFO:httpx:HTTP Request: PUT http://localhost:6333/collections/transaction_image_search \"HTTP/1.1 200 OK\"\n"
     ]
    }
   ],
   "source": [
    "similarity_search = TransactionImageSearch()\n"
   ]
  },
  {
   "cell_type": "code",
   "execution_count": 4,
   "id": "dafccb3d",
   "metadata": {},
   "outputs": [
    {
     "name": "stderr",
     "output_type": "stream",
     "text": [
      "INFO:httpx:HTTP Request: PUT http://localhost:6333/collections/transaction_image_search/points?wait=true \"HTTP/1.1 200 OK\"\n",
      "INFO:httpx:HTTP Request: PUT http://localhost:6333/collections/transaction_image_search/points?wait=true \"HTTP/1.1 200 OK\"\n"
     ]
    }
   ],
   "source": [
    "similarity_search.add_transactions_from_df(transactions_df)\n",
    "similarity_search.add_images_from_directory(\"data/receipt\")"
   ]
  },
  {
   "cell_type": "code",
   "execution_count": 5,
   "id": "5e0eca84",
   "metadata": {},
   "outputs": [
    {
     "name": "stderr",
     "output_type": "stream",
     "text": [
      "INFO:httpx:HTTP Request: GET http://localhost:6333/collections/transaction_image_search \"HTTP/1.1 200 OK\"\n",
      "INFO:httpx:HTTP Request: POST http://localhost:6333/collections/transaction_image_search/points/scroll \"HTTP/1.1 200 OK\"\n",
      "INFO:httpx:HTTP Request: POST http://localhost:6333/collections/transaction_image_search/points/scroll \"HTTP/1.1 200 OK\"\n"
     ]
    },
    {
     "name": "stdout",
     "output_type": "stream",
     "text": [
      "Storage: qdrant\n",
      "Total points: 1050\n",
      "Transactions: 1045\n",
      "Images: 5\n"
     ]
    }
   ],
   "source": [
    "stats = similarity_search.get_statistics()\n",
    "print(f\"Storage: {stats['storage']}\")\n",
    "print(f\"Total points: {stats['total_points']}\")\n",
    "print(f\"Transactions: {stats['transactions']}\")\n",
    "print(f\"Images: {stats['images']}\")"
   ]
  },
  {
   "cell_type": "code",
   "execution_count": 6,
   "id": "4a9e6a95",
   "metadata": {},
   "outputs": [
    {
     "name": "stdout",
     "output_type": "stream",
     "text": [
      "transaction_id                     T00800\n",
      "user_id                             U1013\n",
      "date                           2022-03-10\n",
      "amount                              450.0\n",
      "category                   Work Equipment\n",
      "subcategory                      Computer\n",
      "description       Development accessories\n",
      "vendor                   ElectronicsStore\n",
      "Name: 0, dtype: object\n"
     ]
    },
    {
     "data": {
      "text/plain": [
       "'$450.00 purchase in Work Equipment for Computer described as Development accessories from ElectronicsStore by user U1013 on 10 March 2022'"
      ]
     },
     "execution_count": 6,
     "metadata": {},
     "output_type": "execute_result"
    }
   ],
   "source": [
    "row = transactions_df.iloc[0]\n",
    "print(row)\n",
    "similarity_search.create_transaction_text(row)"
   ]
  },
  {
   "cell_type": "code",
   "execution_count": 7,
   "id": "2000bb20",
   "metadata": {},
   "outputs": [
    {
     "name": "stderr",
     "output_type": "stream",
     "text": [
      "INFO:httpx:HTTP Request: POST http://localhost:6333/collections/transaction_image_search/points/search \"HTTP/1.1 200 OK\"\n"
     ]
    },
    {
     "name": "stdout",
     "output_type": "stream",
     "text": [
      "Score: 0.980 | T00859: $420.00 purchase in Work Equipment for Computer described as Laptop accessories from ElectronicsStore by user U1014 on 20 January 2022\n",
      "Score: 0.976 | T00903: $650.00 purchase in Work Equipment for Computer described as Advanced laptop from ElectronicsStore by user U1014 on 8 February 2023\n",
      "Score: 0.975 | T00862: $550.00 purchase in Work Equipment for Computer described as Computer upgrade from ElectronicsStore by user U1014 on 5 September 2022\n",
      "Score: 0.973 | T00543: $580.00 purchase in Work Equipment for Computer described as Laptop upgrade from ElectronicsStore by user U1009 on 5 September 2022\n",
      "Score: 0.965 | T00540: $350.00 purchase in Work Equipment for Computer described as Tablet for design work from ElectronicsStore by user U1009 on 20 January 2022\n",
      "Score: 0.951 | T00593: $650.00 purchase in Work Equipment for Computer described as Advanced drawing tablet from ElectronicsStore by user U1009 on 8 February 2023\n",
      "Score: 0.938 | T00817: $490.00 purchase in Work Equipment for Computer described as Laptop upgrade from MediaMarkt by user U1013 on 25 January 2023\n",
      "Score: 0.921 | T00707: $500.00 purchase in Home Office for Equipment described as Computer upgrade from MediaMarkt by user U1011 on 15 February 2023\n",
      "Score: 0.920 | T00478: $480.00 purchase in Home Office for Equipment described as Computer upgrade from MediaMarkt by user U1008 on 25 January 2023\n"
     ]
    }
   ],
   "source": [
    "results = similarity_search.search_transactions(similarity_search.create_transaction_text(row), top_k=10)\n",
    "for payload, score in results[1:]:\n",
    "    print(\n",
    "        f\"Score: {score:.3f} | {payload['transaction_id']}: {payload['text_representation']}\"\n",
    "    )"
   ]
  },
  {
   "cell_type": "code",
   "execution_count": 8,
   "id": "32a76fda",
   "metadata": {},
   "outputs": [
    {
     "name": "stderr",
     "output_type": "stream",
     "text": [
      "INFO:httpx:HTTP Request: POST http://localhost:6333/collections/transaction_image_search/points/search \"HTTP/1.1 200 OK\"\n"
     ]
    },
    {
     "name": "stdout",
     "output_type": "stream",
     "text": [
      "Score: 0.894 | T00907: $50.00 purchase in Medical for Doctor Visit described as Routine checkup from Dr. Becker by user U1014 on 20 May 2023\n",
      "Score: 0.893 | T00613: $90.00 purchase in Medical for Doctor Visit described as Regular checkup from Dr. Müller by user U1010 on 15 May 2022\n",
      "Score: 0.893 | T00942: $50.00 purchase in Medical for Doctor Visit described as Routine checkup from Dr. Hoffmann by user U1015 on 15 May 2022\n",
      "Score: 0.892 | T00864: $45.00 purchase in Medical for Doctor Visit described as Routine checkup from Dr. Becker by user U1014 on 20 May 2022\n",
      "Score: 0.891 | T00652: $95.00 purchase in Medical for Doctor Visit described as Regular checkup from Dr. Müller by user U1010 on 15 May 2023\n"
     ]
    }
   ],
   "source": [
    "results = similarity_search.search_transactions(\"doctor medical health\", top_k=5)\n",
    "for payload, score in results:\n",
    "    print(\n",
    "        f\"Score: {score:.3f} | {payload['transaction_id']}: {payload['text_representation']}\"\n",
    "    )"
   ]
  },
  {
   "cell_type": "code",
   "execution_count": 9,
   "id": "44041ede",
   "metadata": {},
   "outputs": [
    {
     "name": "stderr",
     "output_type": "stream",
     "text": [
      "INFO:httpx:HTTP Request: POST http://localhost:6333/collections/transaction_image_search/points/search \"HTTP/1.1 200 OK\"\n"
     ]
    },
    {
     "name": "stdout",
     "output_type": "stream",
     "text": [
      "Score: 0.594 Type: image filename: 4.png\n",
      "Score: 0.584 Type: image filename: 5.png\n",
      "Score: 0.567 Type: image filename: 3.png\n",
      "Score: 0.524 Type: image filename: 1.png\n",
      "Score: 0.327 | T00266: $90.00 purchase in Medical for Prescription described as Monthly medication from CityApotheke by user U1004 on 10 April 2023\n",
      "Score: 0.326 | T00265: $90.00 purchase in Medical for Prescription described as Monthly medication from CityApotheke by user U1004 on 10 March 2023\n",
      "Score: 0.325 | T00264: $90.00 purchase in Medical for Prescription described as Monthly medication from CityApotheke by user U1004 on 10 February 2023\n",
      "Score: 0.325 | T00230: $85.00 purchase in Medical for Prescription described as Monthly medication from CityApotheke by user U1004 on 10 April 2022\n",
      "Score: 0.324 | T00229: $85.00 purchase in Medical for Prescription described as Monthly medication from CityApotheke by user U1004 on 10 March 2022\n"
     ]
    }
   ],
   "source": [
    "results = similarity_search.search_by_image(\"data/receipt/2.png\", content_type=\"both\", top_k=10)\n",
    "for payload, score in results[1:]:\n",
    "    if payload[\"type\"] == \"image\":\n",
    "        print(\n",
    "            f\"Score: {score:.3f} Type: {payload[\"type\"]} filename: {payload[\"filename\"]}\"\n",
    "        )\n",
    "    else:\n",
    "        print(\n",
    "        f\"Score: {score:.3f} | {payload['transaction_id']}: {payload['text_representation']}\"\n",
    "        )"
   ]
  },
  {
   "cell_type": "code",
   "execution_count": 10,
   "id": "49557318",
   "metadata": {},
   "outputs": [
    {
     "name": "stderr",
     "output_type": "stream",
     "text": [
      "INFO:httpx:HTTP Request: POST http://localhost:6333/collections/transaction_image_search/points/search \"HTTP/1.1 200 OK\"\n"
     ]
    },
    {
     "name": "stdout",
     "output_type": "stream",
     "text": [
      "Expensive transactions:\n",
      "Score: 0.802 | $2050.0: $2050.00 purchase in Self-Employment for Client Payment described as Project completion from Client F by user U1002 on 30 June 2023\n",
      "Score: 0.800 | $2200.0: $2200.00 purchase in Self-Employment for Client Payment described as Project completion from Client H by user U1002 on 31 August 2023\n",
      "Score: 0.794 | $2100.0: $2100.00 purchase in Self-Employment for Client Payment described as Project completion from Client C by user U1002 on 31 March 2023\n"
     ]
    }
   ],
   "source": [
    "results = similarity_search.search_transactions(\n",
    "    \"expensive purchase\", amount_range=(2000, 3000), top_k=3\n",
    ")\n",
    "print(\"Expensive transactions:\")\n",
    "for payload, score in results:\n",
    "    print(\n",
    "        f\"Score: {score:.3f} | ${payload['amount']}: {payload['text_representation']}\"\n",
    "    )\n"
   ]
  },
  {
   "cell_type": "code",
   "execution_count": 11,
   "id": "736767c8",
   "metadata": {},
   "outputs": [],
   "source": [
    "tip_generator = TaxTipGenerator()\n",
    "tip_generator.load_data(filings_df, transactions_df, users_df)\n"
   ]
  },
  {
   "cell_type": "code",
   "execution_count": 12,
   "id": "58322f60",
   "metadata": {},
   "outputs": [
    {
     "name": "stdout",
     "output_type": "stream",
     "text": [
      "Index(['user_id', 'income_level', 'deduction_ratio', 'transaction_frequency',\n",
      "       'avg_transaction_size', 'spending_diversity', 'occupation_category',\n",
      "       'age_range', 'family_status', 'region', 'ratio_Business_Meals',\n",
      "       'ratio_Charitable_Donations', 'ratio_Child_Care', 'ratio_Home_Office',\n",
      "       'ratio_Insurance', 'ratio_Medical', 'ratio_Professional_Development',\n",
      "       'ratio_Property_Expenses', 'ratio_Rental', 'ratio_Self-Employment',\n",
      "       'ratio_Transportation', 'ratio_Travel', 'ratio_Work_Clothing',\n",
      "       'ratio_Work_Equipment'],\n",
      "      dtype='object')\n"
     ]
    }
   ],
   "source": [
    "print(tip_generator.user_features.columns)"
   ]
  },
  {
   "cell_type": "code",
   "execution_count": 13,
   "id": "a402d625",
   "metadata": {},
   "outputs": [
    {
     "name": "stderr",
     "output_type": "stream",
     "text": [
      "INFO:src.tip_generation.tips_cluster_based:Cluster 0: Users=11, AvgIncome=€68,136, AvgDedRatio=3.9%, TopOcc=IT Professional, AgeRange=30-40, Members=[U1001, U1003, U1006, U1007, U1008, U1010, U1011, U1012, U1013, U1015, U1016]\n",
      "INFO:src.tip_generation.tips_cluster_based:Cluster 1: Users=5, AvgIncome=€77,900, AvgDedRatio=4.2%, TopOcc=Healthcare, AgeRange=50-60, Members=[U1004, U1017, U1018, U1019, U1020]\n",
      "INFO:src.tip_generation.tips_cluster_based:Cluster 2: Users=3, AvgIncome=€76,000, AvgDedRatio=4.4%, TopOcc=Self-Employed, AgeRange=30-40, Members=[U1002, U1009, U1014]\n",
      "INFO:src.tip_generation.tips_cluster_based:Cluster 3: Users=1, AvgIncome=€89,000, AvgDedRatio=3.5%, TopOcc=Finance, AgeRange=40-50, Members=[U1005]\n"
     ]
    },
    {
     "name": "stdout",
     "output_type": "stream",
     "text": [
      "None\n"
     ]
    }
   ],
   "source": [
    "tip_generator.cluster_data()\n",
    "print(tip_generator.cluster_summary())"
   ]
  },
  {
   "cell_type": "code",
   "execution_count": 14,
   "id": "0a0644e0",
   "metadata": {},
   "outputs": [
    {
     "data": {
      "image/png": "[encoded data removed]",
      "text/plain": [
       "<Figure size 800x600 with 1 Axes>"
      ]
     },
     "metadata": {},
     "output_type": "display_data"
    }
   ],
   "source": [
    "tip_generator.plot_cluster_pca()"
   ]
  },
  {
   "cell_type": "code",
   "execution_count": 24,
   "id": "823013ac",
   "metadata": {},
   "outputs": [
    {
     "name": "stdout",
     "output_type": "stream",
     "text": [
      "Your refund amount: €1,450.75\n",
      "Peer cluster average refund amount: €1,100.62\n",
      "\n",
      "1. Child Care Expense Gap\n",
      "    Similar users spend 9.6% of income on child care (vs your 0.0%). You might be missing deductible purchases.\n",
      "    Action: Review child care expenses\n",
      "2. Work Equipment Expense Gap\n",
      "    Similar users spend 5.4% of income on work equipment (vs your 0.0%). You might be missing deductible purchases.\n",
      "    Action: Review work equipment expenses\n",
      "3. Transportation Expense Gap\n",
      "    Similar users spend 1.8% of income on transportation (vs your 0.0%). You might be missing deductible purchases.\n",
      "    Action: Review transportation expenses\n"
     ]
    }
   ],
   "source": [
    "user_id = \"U1002\"\n",
    "print(format_tip(tip_generator.generate_personalized_tips(user_id=user_id, top_k=3)))"
   ]
  },
  {
   "cell_type": "code",
   "execution_count": 25,
   "id": "70ed1089",
   "metadata": {},
   "outputs": [],
   "source": [
    "rec = EASERecommender()"
   ]
  },
  {
   "cell_type": "code",
   "execution_count": 26,
   "id": "a265977c",
   "metadata": {},
   "outputs": [
    {
     "name": "stderr",
     "output_type": "stream",
     "text": [
      "INFO:src.tip_generation.tips_recommendation_system:EASE training finished.\n"
     ]
    }
   ],
   "source": [
    "rec.load_data(transactions_df, users_df, filings_df)\n",
    "rec.train()\n"
   ]
  },
  {
   "cell_type": "code",
   "execution_count": 36,
   "id": "05bcaf0c",
   "metadata": {},
   "outputs": [
    {
     "name": "stdout",
     "output_type": "stream",
     "text": [
      "Top recommendations for U1002: ['Work Equipment', 'Transportation', 'Child Care']\n"
     ]
    }
   ],
   "source": [
    "user_id = \"U1002\"\n",
    "print(f\"Top recommendations for {user_id}: {rec.recommend(user_id)}\")\n"
   ]
  },
  {
   "cell_type": "code",
   "execution_count": 35,
   "id": "a6a1598f",
   "metadata": {},
   "outputs": [
    {
     "name": "stdout",
     "output_type": "stream",
     "text": [
      "EASE evaluation: HR@3=0.7500, MAP@3=0.5729\n"
     ]
    }
   ],
   "source": [
    "k=3\n",
    "metrics = rec.evaluate(k=k)\n",
    "print(f\"EASE evaluation: HR@{k}={metrics[f'HR@{k}']:.4f}, MAP@{k}={metrics[f'MAP@{k}']:.4f}\")"
   ]
  },
  {
   "cell_type": "code",
   "execution_count": null,
   "id": "c1ed59f3",
   "metadata": {},
   "outputs": [],
   "source": []
  }
 ],
 "metadata": {
  "kernelspec": {
   "display_name": ".venv",
   "language": "python",
   "name": "python3"
  },
  "language_info": {
   "codemirror_mode": {
    "name": "ipython",
    "version": 3
   },
   "file_extension": ".py",
   "mimetype": "text/x-python",
   "name": "python",
   "nbconvert_exporter": "python",
   "pygments_lexer": "ipython3",
   "version": "3.12.0"
  }
 },
 "nbformat": 4,
 "nbformat_minor": 5
}
